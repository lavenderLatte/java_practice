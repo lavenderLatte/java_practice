{
 "cells": [
  {
   "cell_type": "markdown",
   "metadata": {},
   "source": [
    "Dice Tally from Java Class in Python"
   ]
  },
  {
   "cell_type": "code",
   "execution_count": 12,
   "metadata": {
    "collapsed": true
   },
   "outputs": [],
   "source": [
    "import random\n",
    "\n",
    "def roll(a_side, b_side):\n",
    "    dice_a = random.randint(1, a_side)\n",
    "    dice_b = random.randint(1, b_side)\n",
    "    sum = dice_a + dice_b\n",
    "    \n",
    "    return sum"
   ]
  },
  {
   "cell_type": "code",
   "execution_count": 13,
   "metadata": {
    "collapsed": false
   },
   "outputs": [],
   "source": [
    "def main():\n",
    "    \n",
    "    a_side = int(raw_input(\"how many side? \"))\n",
    "    b_side = int(raw_input(\"how many side? \"))\n",
    "    \n",
    "    tally = [0] * (a_side + b_side + 1) # length is 13 for two of 6-sided dice, but the last index num is 12\n",
    "    print tally\n",
    "    for i in range(1000):\n",
    "        result = roll(a_side, b_side)\n",
    "        tally[result] += 1 # if sum result is 2, it will tally[2] += 1\n",
    "        \n",
    "    print tally \n",
    "    \n",
    "    return tally"
   ]
  },
  {
   "cell_type": "code",
   "execution_count": 19,
   "metadata": {
    "collapsed": false
   },
   "outputs": [],
   "source": [
    "def print_out(tally_lst):\n",
    "    for i in range(len(tally_lst)):\n",
    "        if i == 0 or i == 1:\n",
    "            continue\n",
    "        print \"%d: %d\" % (i, tally_list[i])"
   ]
  },
  {
   "cell_type": "code",
   "execution_count": 20,
   "metadata": {
    "collapsed": false
   },
   "outputs": [
    {
     "name": "stdout",
     "output_type": "stream",
     "text": [
      "how many side? 6\n",
      "how many side? 6\n",
      "[0, 0, 0, 0, 0, 0, 0, 0, 0, 0, 0, 0, 0]\n",
      "[0, 0, 30, 52, 91, 119, 147, 172, 126, 94, 81, 49, 39]\n",
      "2: 30\n",
      "3: 52\n",
      "4: 91\n",
      "5: 119\n",
      "6: 147\n",
      "7: 172\n",
      "8: 126\n",
      "9: 94\n",
      "10: 81\n",
      "11: 49\n",
      "12: 39\n"
     ]
    }
   ],
   "source": [
    "tally_list = main()\n",
    "print_out(tally_list)"
   ]
  },
  {
   "cell_type": "code",
   "execution_count": 17,
   "metadata": {
    "collapsed": false
   },
   "outputs": [
    {
     "name": "stdout",
     "output_type": "stream",
     "text": [
      "how many side? 6\n",
      "how many side? 6\n",
      "[0, 0, 0, 0, 0, 0, 0, 0, 0, 0, 0, 0, 0]\n",
      "[0, 0, 25, 64, 76, 115, 147, 155, 139, 101, 86, 70, 22]\n",
      "0: 0\n",
      "1: 0\n",
      "2: 25\n",
      "3: 64\n",
      "4: 76\n",
      "5: 115\n",
      "6: 147\n",
      "7: 155\n",
      "8: 139\n",
      "9: 101\n",
      "10: 86\n",
      "11: 70\n",
      "12: 22\n"
     ]
    }
   ],
   "source": [
    "# result before adding \"if i == 0 or i == 1:\" part\n",
    "\n",
    "tally_list = main()\n",
    "print_out(tally_list)"
   ]
  },
  {
   "cell_type": "code",
   "execution_count": null,
   "metadata": {
    "collapsed": true
   },
   "outputs": [],
   "source": []
  }
 ],
 "metadata": {
  "kernelspec": {
   "display_name": "Python 2",
   "language": "python",
   "name": "python2"
  },
  "language_info": {
   "codemirror_mode": {
    "name": "ipython",
    "version": 2
   },
   "file_extension": ".py",
   "mimetype": "text/x-python",
   "name": "python",
   "nbconvert_exporter": "python",
   "pygments_lexer": "ipython2",
   "version": "2.7.11"
  }
 },
 "nbformat": 4,
 "nbformat_minor": 2
}
